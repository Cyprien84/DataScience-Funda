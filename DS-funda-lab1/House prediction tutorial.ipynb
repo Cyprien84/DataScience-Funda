{
 "cells": [
  {
   "cell_type": "markdown",
   "metadata": {},
   "source": [
    "# Varables :\n",
    "<br>Here's a brief version of what you'll find in the data description file.:\n",
    "<br> **SalePrice** </br> : the property's sale price in dollars. This is the target variable that you're trying to predict.:\n",
    "<br>**MSZoning**: Identifies the general zoning classification of the sale.\n",
    "<br>**GrLivArea**: Above grade (ground) living area square feet.\n",
    "<br>**Utilities**: Type of utilities available.\n",
    "<br>**OverallQual**: Rates the overall material and finish of the house.\n",
    "<br>**YearBuilt**: Original construction date.\n",
    "<br>**TotalBsmtSF**: Total square feet of basement area.\n",
    "<br>**Heating**: Type of heating.\n",
    "<br>**HeatingQC**: Heating quality and condition.\n",
    "<br>**CentralAir**: Central air conditioning.\n",
    "<br>**FullBath**: Full bathrooms above grade.\n",
    "<br>**BedroomAbvGr**: Bedrooms above grade (does NOT include basement bedrooms)\n",
    "<br>**KitchenAbvGr**: Kitchens above grade\n",
    "<br>**GarageCars**: Size of garage in car capacity.\n",
    "<br>**PoolArea**: Pool area in square feet.\n"
   ]
  },
  {
   "cell_type": "code",
   "execution_count": 1,
   "metadata": {},
   "outputs": [],
   "source": [
    "import pandas as pd\n",
    "%matplotlib inline\n",
    "import seaborn as sns\n",
    "import matplotlib.pyplot as plt\n",
    "\n",
    "#used in correlation\n",
    "import scipy.stats as ss\n",
    "import numpy as np\n",
    "import itertools\n",
    "\n",
    "from sklearn.model_selection import train_test_split\n",
    "\n",
    "from sklearn.linear_model import LinearRegression\n",
    "from sklearn.metrics import mean_squared_error as mse\n",
    "from sklearn.linear_model import Ridge\n",
    "from sklearn.preprocessing import StandardScaler\n",
    "\n",
    "from sklearn.model_selection import GridSearchCV\n"
   ]
  },
  {
   "cell_type": "markdown",
   "metadata": {},
   "source": [
    "## 1- Import data"
   ]
  },
  {
   "cell_type": "markdown",
   "metadata": {},
   "source": [
    "Load the csv file with our data into a pandas Dataframe"
   ]
  },
  {
   "cell_type": "code",
   "execution_count": 2,
   "metadata": {},
   "outputs": [
    {
     "name": "stdout",
     "output_type": "stream",
     "text": [
      "Number of houses in our Dataset :  1459\n",
      "Number of features :  14\n"
     ]
    }
   ],
   "source": [
    "data = pd.read_csv('data/train_custom.csv')\n",
    "print(\"Number of houses in our Dataset : \", data.shape[0])\n",
    "print(\"Number of features : \", data.shape[1]-1)#the -1 is for not counting the Target SalePrice"
   ]
  },
  {
   "cell_type": "markdown",
   "metadata": {},
   "source": [
    "Let's have a quick look on our data"
   ]
  },
  {
   "cell_type": "code",
   "execution_count": 3,
   "metadata": {},
   "outputs": [
    {
     "data": {
      "text/html": [
       "<div>\n",
       "<style scoped>\n",
       "    .dataframe tbody tr th:only-of-type {\n",
       "        vertical-align: middle;\n",
       "    }\n",
       "\n",
       "    .dataframe tbody tr th {\n",
       "        vertical-align: top;\n",
       "    }\n",
       "\n",
       "    .dataframe thead th {\n",
       "        text-align: right;\n",
       "    }\n",
       "</style>\n",
       "<table border=\"1\" class=\"dataframe\">\n",
       "  <thead>\n",
       "    <tr style=\"text-align: right;\">\n",
       "      <th></th>\n",
       "      <th>MSZoning</th>\n",
       "      <th>GrLivArea</th>\n",
       "      <th>Utilities</th>\n",
       "      <th>OverallQual</th>\n",
       "      <th>YearBuilt</th>\n",
       "      <th>TotalBsmtSF</th>\n",
       "      <th>Heating</th>\n",
       "      <th>HeatingQC</th>\n",
       "      <th>CentralAir</th>\n",
       "      <th>FullBath</th>\n",
       "      <th>BedroomAbvGr</th>\n",
       "      <th>KitchenAbvGr</th>\n",
       "      <th>GarageCars</th>\n",
       "      <th>PoolArea</th>\n",
       "      <th>SalePrice</th>\n",
       "    </tr>\n",
       "  </thead>\n",
       "  <tbody>\n",
       "    <tr>\n",
       "      <th>0</th>\n",
       "      <td>RL</td>\n",
       "      <td>1710</td>\n",
       "      <td>AllPub</td>\n",
       "      <td>7</td>\n",
       "      <td>2003</td>\n",
       "      <td>856</td>\n",
       "      <td>GasA</td>\n",
       "      <td>Ex</td>\n",
       "      <td>Y</td>\n",
       "      <td>2</td>\n",
       "      <td>3</td>\n",
       "      <td>1</td>\n",
       "      <td>2</td>\n",
       "      <td>0</td>\n",
       "      <td>208500</td>\n",
       "    </tr>\n",
       "    <tr>\n",
       "      <th>1</th>\n",
       "      <td>RL</td>\n",
       "      <td>1262</td>\n",
       "      <td>AllPub</td>\n",
       "      <td>6</td>\n",
       "      <td>1976</td>\n",
       "      <td>1262</td>\n",
       "      <td>GasA</td>\n",
       "      <td>Ex</td>\n",
       "      <td>Y</td>\n",
       "      <td>2</td>\n",
       "      <td>3</td>\n",
       "      <td>1</td>\n",
       "      <td>2</td>\n",
       "      <td>0</td>\n",
       "      <td>181500</td>\n",
       "    </tr>\n",
       "    <tr>\n",
       "      <th>2</th>\n",
       "      <td>RL</td>\n",
       "      <td>1786</td>\n",
       "      <td>AllPub</td>\n",
       "      <td>7</td>\n",
       "      <td>2001</td>\n",
       "      <td>920</td>\n",
       "      <td>GasA</td>\n",
       "      <td>Ex</td>\n",
       "      <td>Y</td>\n",
       "      <td>2</td>\n",
       "      <td>3</td>\n",
       "      <td>1</td>\n",
       "      <td>2</td>\n",
       "      <td>0</td>\n",
       "      <td>223500</td>\n",
       "    </tr>\n",
       "    <tr>\n",
       "      <th>3</th>\n",
       "      <td>RL</td>\n",
       "      <td>1717</td>\n",
       "      <td>AllPub</td>\n",
       "      <td>7</td>\n",
       "      <td>1915</td>\n",
       "      <td>756</td>\n",
       "      <td>GasA</td>\n",
       "      <td>Gd</td>\n",
       "      <td>Y</td>\n",
       "      <td>1</td>\n",
       "      <td>3</td>\n",
       "      <td>1</td>\n",
       "      <td>3</td>\n",
       "      <td>0</td>\n",
       "      <td>140000</td>\n",
       "    </tr>\n",
       "    <tr>\n",
       "      <th>4</th>\n",
       "      <td>RL</td>\n",
       "      <td>2198</td>\n",
       "      <td>AllPub</td>\n",
       "      <td>8</td>\n",
       "      <td>2000</td>\n",
       "      <td>1145</td>\n",
       "      <td>GasA</td>\n",
       "      <td>Ex</td>\n",
       "      <td>Y</td>\n",
       "      <td>2</td>\n",
       "      <td>4</td>\n",
       "      <td>1</td>\n",
       "      <td>3</td>\n",
       "      <td>0</td>\n",
       "      <td>250000</td>\n",
       "    </tr>\n",
       "    <tr>\n",
       "      <th>5</th>\n",
       "      <td>RL</td>\n",
       "      <td>1362</td>\n",
       "      <td>AllPub</td>\n",
       "      <td>5</td>\n",
       "      <td>1993</td>\n",
       "      <td>796</td>\n",
       "      <td>GasA</td>\n",
       "      <td>Ex</td>\n",
       "      <td>Y</td>\n",
       "      <td>1</td>\n",
       "      <td>1</td>\n",
       "      <td>1</td>\n",
       "      <td>2</td>\n",
       "      <td>0</td>\n",
       "      <td>143000</td>\n",
       "    </tr>\n",
       "    <tr>\n",
       "      <th>6</th>\n",
       "      <td>RL</td>\n",
       "      <td>1694</td>\n",
       "      <td>AllPub</td>\n",
       "      <td>8</td>\n",
       "      <td>2004</td>\n",
       "      <td>1686</td>\n",
       "      <td>GasA</td>\n",
       "      <td>Ex</td>\n",
       "      <td>Y</td>\n",
       "      <td>2</td>\n",
       "      <td>3</td>\n",
       "      <td>1</td>\n",
       "      <td>2</td>\n",
       "      <td>0</td>\n",
       "      <td>307000</td>\n",
       "    </tr>\n",
       "    <tr>\n",
       "      <th>7</th>\n",
       "      <td>RL</td>\n",
       "      <td>2090</td>\n",
       "      <td>AllPub</td>\n",
       "      <td>7</td>\n",
       "      <td>1973</td>\n",
       "      <td>1107</td>\n",
       "      <td>GasA</td>\n",
       "      <td>Ex</td>\n",
       "      <td>Y</td>\n",
       "      <td>2</td>\n",
       "      <td>3</td>\n",
       "      <td>1</td>\n",
       "      <td>2</td>\n",
       "      <td>0</td>\n",
       "      <td>200000</td>\n",
       "    </tr>\n",
       "    <tr>\n",
       "      <th>8</th>\n",
       "      <td>RM</td>\n",
       "      <td>1774</td>\n",
       "      <td>AllPub</td>\n",
       "      <td>7</td>\n",
       "      <td>1931</td>\n",
       "      <td>952</td>\n",
       "      <td>GasA</td>\n",
       "      <td>Gd</td>\n",
       "      <td>Y</td>\n",
       "      <td>2</td>\n",
       "      <td>2</td>\n",
       "      <td>2</td>\n",
       "      <td>2</td>\n",
       "      <td>0</td>\n",
       "      <td>129900</td>\n",
       "    </tr>\n",
       "    <tr>\n",
       "      <th>9</th>\n",
       "      <td>RL</td>\n",
       "      <td>1077</td>\n",
       "      <td>AllPub</td>\n",
       "      <td>5</td>\n",
       "      <td>1939</td>\n",
       "      <td>991</td>\n",
       "      <td>GasA</td>\n",
       "      <td>Ex</td>\n",
       "      <td>Y</td>\n",
       "      <td>1</td>\n",
       "      <td>2</td>\n",
       "      <td>2</td>\n",
       "      <td>1</td>\n",
       "      <td>0</td>\n",
       "      <td>118000</td>\n",
       "    </tr>\n",
       "  </tbody>\n",
       "</table>\n",
       "</div>"
      ],
      "text/plain": [
       "  MSZoning  GrLivArea Utilities  OverallQual  YearBuilt TotalBsmtSF Heating  \\\n",
       "0       RL       1710    AllPub            7       2003         856    GasA   \n",
       "1       RL       1262    AllPub            6       1976        1262    GasA   \n",
       "2       RL       1786    AllPub            7       2001         920    GasA   \n",
       "3       RL       1717    AllPub            7       1915         756    GasA   \n",
       "4       RL       2198    AllPub            8       2000        1145    GasA   \n",
       "5       RL       1362    AllPub            5       1993         796    GasA   \n",
       "6       RL       1694    AllPub            8       2004        1686    GasA   \n",
       "7       RL       2090    AllPub            7       1973        1107    GasA   \n",
       "8       RM       1774    AllPub            7       1931         952    GasA   \n",
       "9       RL       1077    AllPub            5       1939         991    GasA   \n",
       "\n",
       "  HeatingQC CentralAir  FullBath  BedroomAbvGr  KitchenAbvGr  GarageCars  \\\n",
       "0        Ex          Y         2             3             1           2   \n",
       "1        Ex          Y         2             3             1           2   \n",
       "2        Ex          Y         2             3             1           2   \n",
       "3        Gd          Y         1             3             1           3   \n",
       "4        Ex          Y         2             4             1           3   \n",
       "5        Ex          Y         1             1             1           2   \n",
       "6        Ex          Y         2             3             1           2   \n",
       "7        Ex          Y         2             3             1           2   \n",
       "8        Gd          Y         2             2             2           2   \n",
       "9        Ex          Y         1             2             2           1   \n",
       "\n",
       "   PoolArea  SalePrice  \n",
       "0         0     208500  \n",
       "1         0     181500  \n",
       "2         0     223500  \n",
       "3         0     140000  \n",
       "4         0     250000  \n",
       "5         0     143000  \n",
       "6         0     307000  \n",
       "7         0     200000  \n",
       "8         0     129900  \n",
       "9         0     118000  "
      ]
     },
     "execution_count": 3,
     "metadata": {},
     "output_type": "execute_result"
    }
   ],
   "source": [
    "data.head(10)"
   ]
  },
  {
   "cell_type": "markdown",
   "metadata": {},
   "source": [
    "## 2- Some data exploration"
   ]
  },
  {
   "cell_type": "markdown",
   "metadata": {},
   "source": [
    "The next step is to gather some information about different column in the DataFrame. You can do so by using **.info()**, which basically gives you information about the number of rows, columns, column data types and memory usage."
   ]
  },
  {
   "cell_type": "code",
   "execution_count": 4,
   "metadata": {
    "scrolled": false
   },
   "outputs": [
    {
     "name": "stdout",
     "output_type": "stream",
     "text": [
      "<class 'pandas.core.frame.DataFrame'>\n",
      "RangeIndex: 1459 entries, 0 to 1458\n",
      "Data columns (total 15 columns):\n",
      " #   Column        Non-Null Count  Dtype \n",
      "---  ------        --------------  ----- \n",
      " 0   MSZoning      1459 non-null   object\n",
      " 1   GrLivArea     1459 non-null   int64 \n",
      " 2   Utilities     1459 non-null   object\n",
      " 3   OverallQual   1459 non-null   int64 \n",
      " 4   YearBuilt     1459 non-null   int64 \n",
      " 5   TotalBsmtSF   1459 non-null   object\n",
      " 6   Heating       1459 non-null   object\n",
      " 7   HeatingQC     1379 non-null   object\n",
      " 8   CentralAir    1459 non-null   object\n",
      " 9   FullBath      1459 non-null   int64 \n",
      " 10  BedroomAbvGr  1459 non-null   int64 \n",
      " 11  KitchenAbvGr  1459 non-null   int64 \n",
      " 12  GarageCars    1459 non-null   int64 \n",
      " 13  PoolArea      1459 non-null   int64 \n",
      " 14  SalePrice     1459 non-null   int64 \n",
      "dtypes: int64(9), object(6)\n",
      "memory usage: 171.1+ KB\n",
      "None\n"
     ]
    }
   ],
   "source": [
    "print(data.info())"
   ]
  },
  {
   "cell_type": "markdown",
   "metadata": {},
   "source": [
    "As you can see, Dtype column indicates the type of the variable as it is read by pandas.\n",
    "Columns like GrLivArea, YearBuilt and TotalBsmtSF are read as **integers**, others like MSZoning, Heating are **object**.\n",
    "<br>\n",
    "The columns with object dtype are the **possible** categorical features in the dataset because they are most likely to contain strings.\n",
    "<br>\n",
    "The reason why you would say that these categorical features are **'possible'** is because you shouldn't completely rely on **.info()** to get the real data type of the values of a feature, as some missing values that are represented as strings in a continuous feature can coerce it to read them as object dtypes. And also because some categorical features can be encoded as integers.<br><br>\n",
    "We can see for example that the feature TotalBmtSF is recognized as an \"object\", we can think of it as a catogorical feature, but we know that TotalBmtSF is the Total square feet of basement area, so it should be a continious feature. And the reason why it figure out as object type is because maybe it contains some missing values. <br>We can also see that all features have 1459 non-null count, except HeatingQC that contains 80 null entries. \n",
    "<br>Missing values will be dealt later on this notebook."
   ]
  },
  {
   "cell_type": "markdown",
   "metadata": {},
   "source": [
    "### 2.1 - Let's take a look at the distribution of our target SalePrice"
   ]
  },
  {
   "cell_type": "code",
   "execution_count": 5,
   "metadata": {
    "scrolled": true
   },
   "outputs": [
    {
     "data": {
      "text/plain": [
       "count      1459.000000\n",
       "mean     180944.102810\n",
       "std       79464.918335\n",
       "min       34900.000000\n",
       "25%      129950.000000\n",
       "50%      163000.000000\n",
       "75%      214000.000000\n",
       "max      755000.000000\n",
       "Name: SalePrice, dtype: float64"
      ]
     },
     "execution_count": 5,
     "metadata": {},
     "output_type": "execute_result"
    }
   ],
   "source": [
    "data['SalePrice'].describe()"
   ]
  },
  {
   "cell_type": "markdown",
   "metadata": {},
   "source": [
    "<img src=\"images/saleprice_describe.png\" style=\"width:80%;height:80%;\">"
   ]
  },
  {
   "cell_type": "code",
   "execution_count": 6,
   "metadata": {
    "scrolled": true
   },
   "outputs": [
    {
     "data": {
      "text/plain": [
       "<matplotlib.axes._subplots.AxesSubplot at 0x1c9d9af3780>"
      ]
     },
     "execution_count": 6,
     "metadata": {},
     "output_type": "execute_result"
    },
    {
     "data": {
      "image/png": "[encoded data removed]",
      "text/plain": [
       "<Figure size 432x288 with 1 Axes>"
      ]
     },
     "metadata": {
      "needs_background": "light"
     },
     "output_type": "display_data"
    }
   ],
   "source": [
    "sns.distplot(data['SalePrice'], hist=True, kde=False)\n",
    "# kde : kernel density estimation, if True allows to plot a gaussian kernel density estimate."
   ]
  },
  {
   "cell_type": "markdown",
   "metadata": {},
   "source": [
    "### 2.2- Let's explore features/variables"
   ]
  },
  {
   "cell_type": "markdown",
   "metadata": {},
   "source": [
    "As you know, there are two types of features :<br>\n",
    "- Continious (or quantitative)\n",
    "- Catogorical (or qualitative)\n",
    "\n",
    "**Continious data** is data which can take an infinite number of possible values; between two different values we can have a new value.<br> Attributes such as cost, price, quantity are typically continious (integers or floats).<br><br>\n",
    "**Categorical data** is data which takes on a finite number of possible values. \n",
    "<br>2 types of catergorical features : Ordinal (with order) and nominal. For example, if we are talking about a physical product like a t-shirt, it could have categorical variables such as:\n",
    "- Size (X-Small, Small, Medium, Large, X-Large), where XS < S < M <L ==> Ordinal type\n",
    "- Color (Red, Black, White), no order between theses types ==> nominal type\n",
    "\n",
    "**The key take away** is that whether or not a variable is categorical depends on its application. Since we only have 3 colors of shirts, then that is a good categorical variable. However, “color” could represent thousands of values in other situations so it would not be a good choice.<br> *So there is no hard and fast rule for how many values a categorical value should have. You should apply your domain knowledge to make that determination on your own data sets.*"
   ]
  },
  {
   "cell_type": "markdown",
   "metadata": {},
   "source": [
    "#### In the house price dataset, there are the two types of features\n",
    "We based on the panel values of these features in the dataset, and also on some domain knowledge to decide whether a feature is continious or categorical:"
   ]
  },
  {
   "cell_type": "markdown",
   "metadata": {},
   "source": [
    "<img src='images/feature_type.png' style=\"width:40%;height:40%;\">"
   ]
  },
  {
   "cell_type": "markdown",
   "metadata": {},
   "source": [
    "### 2.2.1- First, let's focus on continious features"
   ]
  },
  {
   "cell_type": "markdown",
   "metadata": {},
   "source": [
    "**GrLivArea** is the above ground living area in square feet : we can see in the first graph below the distribution of GrLivArea and in the second graph the relationship between the GrLivArea and SalePrice.\n",
    "<br>Notice that houses tend to be more expensive as the area increase, and the relationship between the area and the price seems to be linear."
   ]
  },
  {
   "cell_type": "code",
   "execution_count": 7,
   "metadata": {},
   "outputs": [
    {
     "data": {
      "text/plain": [
       "<matplotlib.axes._subplots.AxesSubplot at 0x1c9df20a2b0>"
      ]
     },
     "execution_count": 7,
     "metadata": {},
     "output_type": "execute_result"
    },
    {
     "data": {
      "image/png": "[encoded data removed]",
      "text/plain": [
       "<Figure size 432x288 with 1 Axes>"
      ]
     },
     "metadata": {
      "needs_background": "light"
     },
     "output_type": "display_data"
    }
   ],
   "source": [
    "sns.distplot(data['GrLivArea'], hist=True, kde=False)"
   ]
  },
  {
   "cell_type": "code",
   "execution_count": 8,
   "metadata": {},
   "outputs": [
    {
     "data": {
      "text/plain": [
       "<matplotlib.axes._subplots.AxesSubplot at 0x1c9df38ef98>"
      ]
     },
     "execution_count": 8,
     "metadata": {},
     "output_type": "execute_result"
    },
    {
     "data": {
      "image/png": "[encoded data removed]",
      "text/plain": [
       "<Figure size 432x288 with 1 Axes>"
      ]
     },
     "metadata": {
      "needs_background": "light"
     },
     "output_type": "display_data"
    }
   ],
   "source": [
    "#scatter plot grlivarea/saleprice\n",
    "#GrLivArea: Above grade (ground) living area square feet.\n",
    "var = 'GrLivArea'\n",
    "data_ = pd.concat([data['SalePrice'], data[var]], axis=1)\n",
    "data_.plot.scatter(x=var, y='SalePrice', ylim=(0,800000))"
   ]
  },
  {
   "cell_type": "markdown",
   "metadata": {},
   "source": [
    "As seen before, **TotalBmstSF** values has object type while it should have float type. <br>\n",
    "We try in the below cell to convert the type of the column, but got an **error**. This confirms that there are some unexpected strings in the data (You can uncomment the cell to see the error if you want):"
   ]
  },
  {
   "cell_type": "code",
   "execution_count": 9,
   "metadata": {
    "scrolled": true
   },
   "outputs": [],
   "source": [
    "#data['TotalBsmtSF'].astype('float')"
   ]
  },
  {
   "cell_type": "markdown",
   "metadata": {},
   "source": [
    "By displaying the content of TotalBsmtSF column, and looking at some values, we can see that the first value is a string \"whitespace\":"
   ]
  },
  {
   "cell_type": "code",
   "execution_count": 10,
   "metadata": {},
   "outputs": [
    {
     "data": {
      "text/plain": [
       "{' ',\n",
       " '0',\n",
       " '1001',\n",
       " '1002',\n",
       " '1003',\n",
       " '1004',\n",
       " '1005',\n",
       " '1006',\n",
       " '1007',\n",
       " '1008',\n",
       " '1010',\n",
       " '1012',\n",
       " '1013',\n",
       " '1017',\n",
       " '1019',\n",
       " '1020',\n",
       " '1021',\n",
       " '1022',\n",
       " '1024',\n",
       " '1026',\n",
       " '1028',\n",
       " '1029',\n",
       " '1030',\n",
       " '1032',\n",
       " '1034',\n",
       " '1039',\n",
       " '1040',\n",
       " '1041',\n",
       " '1042',\n",
       " '1048',\n",
       " '105',\n",
       " '1050',\n",
       " '1051',\n",
       " '1052',\n",
       " '1053',\n",
       " '1054',\n",
       " '1055',\n",
       " '1056',\n",
       " '1057',\n",
       " '1058',\n",
       " '1059',\n",
       " '1060',\n",
       " '1062',\n",
       " '1063',\n",
       " '1064',\n",
       " '1065',\n",
       " '1067',\n",
       " '1069',\n",
       " '1070',\n",
       " '1073',\n",
       " '1074',\n",
       " '1075',\n",
       " '1078',\n",
       " '1079',\n",
       " '1080',\n",
       " '1082',\n",
       " '1084',\n",
       " '1085',\n",
       " '1086',\n",
       " '1088',\n",
       " '1090',\n",
       " '1092',\n",
       " '1094',\n",
       " '1095',\n",
       " '1096',\n",
       " '1097',\n",
       " '1098',\n",
       " '1099',\n",
       " '1100',\n",
       " '1103',\n",
       " '1104',\n",
       " '1105',\n",
       " '1106',\n",
       " '1107',\n",
       " '1108',\n",
       " '1109',\n",
       " '1112',\n",
       " '1113',\n",
       " '1114',\n",
       " '1117',\n",
       " '1120',\n",
       " '1121',\n",
       " '1122',\n",
       " '1125',\n",
       " '1126',\n",
       " '1127',\n",
       " '1128',\n",
       " '1132',\n",
       " '1134',\n",
       " '1136',\n",
       " '1138',\n",
       " '1140',\n",
       " '1141',\n",
       " '1142',\n",
       " '1143',\n",
       " '1144',\n",
       " '1145',\n",
       " '1148',\n",
       " '1149',\n",
       " '1150',\n",
       " '1151',\n",
       " '1152',\n",
       " '1153',\n",
       " '1154',\n",
       " '1156',\n",
       " '1157',\n",
       " '1158',\n",
       " '1161',\n",
       " '1162',\n",
       " '1163',\n",
       " '1164',\n",
       " '1165',\n",
       " '1175',\n",
       " '1176',\n",
       " '1181',\n",
       " '1184',\n",
       " '1187',\n",
       " '1188',\n",
       " '1190',\n",
       " '1192',\n",
       " '1193',\n",
       " '1194',\n",
       " '1196',\n",
       " '1198',\n",
       " '1199',\n",
       " '1200',\n",
       " '1202',\n",
       " '1203',\n",
       " '1204',\n",
       " '1205',\n",
       " '1208',\n",
       " '1210',\n",
       " '1212',\n",
       " '1214',\n",
       " '1215',\n",
       " '1216',\n",
       " '1218',\n",
       " '1219',\n",
       " '1220',\n",
       " '1221',\n",
       " '1224',\n",
       " '1225',\n",
       " '1226',\n",
       " '1228',\n",
       " '1232',\n",
       " '1234',\n",
       " '1235',\n",
       " '1237',\n",
       " '1240',\n",
       " '1241',\n",
       " '1242',\n",
       " '1244',\n",
       " '1246',\n",
       " '1247',\n",
       " '1248',\n",
       " '1249',\n",
       " '1251',\n",
       " '1252',\n",
       " '1253',\n",
       " '1257',\n",
       " '1258',\n",
       " '1260',\n",
       " '1261',\n",
       " '1262',\n",
       " '1264',\n",
       " '1266',\n",
       " '1267',\n",
       " '1268',\n",
       " '1269',\n",
       " '1271',\n",
       " '1272',\n",
       " '1273',\n",
       " '1274',\n",
       " '1276',\n",
       " '1277',\n",
       " '1278',\n",
       " '1281',\n",
       " '1284',\n",
       " '1286',\n",
       " '1288',\n",
       " '1291',\n",
       " '1293',\n",
       " '1296',\n",
       " '1297',\n",
       " '1298',\n",
       " '1299',\n",
       " '1300',\n",
       " '1302',\n",
       " '1304',\n",
       " '1306',\n",
       " '1309',\n",
       " '1310',\n",
       " '1311',\n",
       " '1314',\n",
       " '1316',\n",
       " '1318',\n",
       " '1319',\n",
       " '1324',\n",
       " '1328',\n",
       " '1330',\n",
       " '1332',\n",
       " '1337',\n",
       " '1338',\n",
       " '1340',\n",
       " '1344',\n",
       " '1346',\n",
       " '1347',\n",
       " '1349',\n",
       " '1350',\n",
       " '1352',\n",
       " '1356',\n",
       " '1358',\n",
       " '1360',\n",
       " '1362',\n",
       " '1364',\n",
       " '1367',\n",
       " '1368',\n",
       " '1370',\n",
       " '1372',\n",
       " '1373',\n",
       " '1374',\n",
       " '1379',\n",
       " '1383',\n",
       " '1385',\n",
       " '1386',\n",
       " '1389',\n",
       " '1390',\n",
       " '1391',\n",
       " '1392',\n",
       " '1393',\n",
       " '1394',\n",
       " '1396',\n",
       " '1398',\n",
       " '1405',\n",
       " '1406',\n",
       " '1408',\n",
       " '1410',\n",
       " '1413',\n",
       " '1414',\n",
       " '1416',\n",
       " '1417',\n",
       " '1419',\n",
       " '1422',\n",
       " '1424',\n",
       " '1425',\n",
       " '1428',\n",
       " '1430',\n",
       " '1431',\n",
       " '1434',\n",
       " '1436',\n",
       " '1437',\n",
       " '1440',\n",
       " '1442',\n",
       " '1444',\n",
       " '1453',\n",
       " '1454',\n",
       " '1459',\n",
       " '1461',\n",
       " '1462',\n",
       " '1463',\n",
       " '1466',\n",
       " '1468',\n",
       " '1470',\n",
       " '1473',\n",
       " '1475',\n",
       " '1476',\n",
       " '1477',\n",
       " '1478',\n",
       " '1479',\n",
       " '1482',\n",
       " '1484',\n",
       " '1485',\n",
       " '1486',\n",
       " '1488',\n",
       " '1489',\n",
       " '1490',\n",
       " '1494',\n",
       " '1496',\n",
       " '1498',\n",
       " '1500',\n",
       " '1501',\n",
       " '1502',\n",
       " '1504',\n",
       " '1505',\n",
       " '1510',\n",
       " '1516',\n",
       " '1517',\n",
       " '1518',\n",
       " '1520',\n",
       " '1522',\n",
       " '1525',\n",
       " '1530',\n",
       " '1536',\n",
       " '1541',\n",
       " '1542',\n",
       " '1552',\n",
       " '1554',\n",
       " '1559',\n",
       " '1560',\n",
       " '1561',\n",
       " '1563',\n",
       " '1565',\n",
       " '1566',\n",
       " '1567',\n",
       " '1568',\n",
       " '1571',\n",
       " '1572',\n",
       " '1573',\n",
       " '1574',\n",
       " '1575',\n",
       " '1580',\n",
       " '1581',\n",
       " '1582',\n",
       " '1584',\n",
       " '1588',\n",
       " '1593',\n",
       " '1594',\n",
       " '1595',\n",
       " '1598',\n",
       " '1600',\n",
       " '1602',\n",
       " '1604',\n",
       " '1606',\n",
       " '1610',\n",
       " '1614',\n",
       " '1616',\n",
       " '1617',\n",
       " '1620',\n",
       " '1622',\n",
       " '1623',\n",
       " '1624',\n",
       " '1626',\n",
       " '1629',\n",
       " '1630',\n",
       " '1632',\n",
       " '1638',\n",
       " '1643',\n",
       " '1649',\n",
       " '1650',\n",
       " '1652',\n",
       " '1654',\n",
       " '1656',\n",
       " '1657',\n",
       " '1660',\n",
       " '1670',\n",
       " '1673',\n",
       " '1680',\n",
       " '1682',\n",
       " '1683',\n",
       " '1684',\n",
       " '1686',\n",
       " '1689',\n",
       " '1694',\n",
       " '1698',\n",
       " '1700',\n",
       " '1702',\n",
       " '1704',\n",
       " '1705',\n",
       " '1709',\n",
       " '1710',\n",
       " '1713',\n",
       " '1719',\n",
       " '1720',\n",
       " '1722',\n",
       " '1726',\n",
       " '1728',\n",
       " '1732',\n",
       " '1734',\n",
       " '1742',\n",
       " '1746',\n",
       " '1752',\n",
       " '1753',\n",
       " '1763',\n",
       " '1766',\n",
       " '1768',\n",
       " '1777',\n",
       " '1792',\n",
       " '1795',\n",
       " '1800',\n",
       " '1809',\n",
       " '1814',\n",
       " '1822',\n",
       " '1833',\n",
       " '1836',\n",
       " '1838',\n",
       " '1842',\n",
       " '1844',\n",
       " '1845',\n",
       " '1848',\n",
       " '1856',\n",
       " '1860',\n",
       " '1868',\n",
       " '1869',\n",
       " '1896',\n",
       " '190',\n",
       " '1902',\n",
       " '1905',\n",
       " '1907',\n",
       " '1922',\n",
       " '1926',\n",
       " '1930',\n",
       " '1932',\n",
       " '1935',\n",
       " '1947',\n",
       " '1952',\n",
       " '1976',\n",
       " '1980',\n",
       " '1986',\n",
       " '1992',\n",
       " '2000',\n",
       " '2002',\n",
       " '2006',\n",
       " '2033',\n",
       " '2035',\n",
       " '2042',\n",
       " '2046',\n",
       " '2076',\n",
       " '2077',\n",
       " '2078',\n",
       " '2109',\n",
       " '2110',\n",
       " '2121',\n",
       " '2136',\n",
       " '2153',\n",
       " '2158',\n",
       " '2217',\n",
       " '2223',\n",
       " '2330',\n",
       " '2392',\n",
       " '2396',\n",
       " '2444',\n",
       " '2524',\n",
       " '2633',\n",
       " '264',\n",
       " '290',\n",
       " '3094',\n",
       " '3138',\n",
       " '319',\n",
       " '3200',\n",
       " '3206',\n",
       " '360',\n",
       " '372',\n",
       " '384',\n",
       " '408',\n",
       " '420',\n",
       " '440',\n",
       " '458',\n",
       " '462',\n",
       " '480',\n",
       " '482',\n",
       " '483',\n",
       " '485',\n",
       " '504',\n",
       " '506',\n",
       " '520',\n",
       " '525',\n",
       " '528',\n",
       " '530',\n",
       " '533',\n",
       " '536',\n",
       " '539',\n",
       " '540',\n",
       " '544',\n",
       " '546',\n",
       " '547',\n",
       " '551',\n",
       " '559',\n",
       " '560',\n",
       " '561',\n",
       " '570',\n",
       " '572',\n",
       " '576',\n",
       " '585',\n",
       " '588',\n",
       " '596',\n",
       " '600',\n",
       " '602',\n",
       " '608',\n",
       " '611',\n",
       " '6110',\n",
       " '612',\n",
       " '616',\n",
       " '617',\n",
       " '622',\n",
       " '624',\n",
       " '625',\n",
       " '626',\n",
       " '630',\n",
       " '636',\n",
       " '637',\n",
       " '641',\n",
       " '644',\n",
       " '648',\n",
       " '649',\n",
       " '650',\n",
       " '651',\n",
       " '654',\n",
       " '655',\n",
       " '656',\n",
       " '660',\n",
       " '661',\n",
       " '662',\n",
       " '663',\n",
       " '672',\n",
       " '673',\n",
       " '676',\n",
       " '680',\n",
       " '683',\n",
       " '684',\n",
       " '686',\n",
       " '689',\n",
       " '690',\n",
       " '691',\n",
       " '693',\n",
       " '696',\n",
       " '697',\n",
       " '698',\n",
       " '700',\n",
       " '702',\n",
       " '704',\n",
       " '707',\n",
       " '708',\n",
       " '709',\n",
       " '710',\n",
       " '712',\n",
       " '713',\n",
       " '714',\n",
       " '715',\n",
       " '716',\n",
       " '718',\n",
       " '720',\n",
       " '721',\n",
       " '723',\n",
       " '725',\n",
       " '727',\n",
       " '728',\n",
       " '729',\n",
       " '731',\n",
       " '732',\n",
       " '735',\n",
       " '736',\n",
       " '738',\n",
       " '740',\n",
       " '741',\n",
       " '742',\n",
       " '744',\n",
       " '746',\n",
       " '747',\n",
       " '750',\n",
       " '755',\n",
       " '756',\n",
       " '757',\n",
       " '764',\n",
       " '765',\n",
       " '768',\n",
       " '770',\n",
       " '771',\n",
       " '773',\n",
       " '774',\n",
       " '776',\n",
       " '777',\n",
       " '778',\n",
       " '780',\n",
       " '783',\n",
       " '784',\n",
       " '788',\n",
       " '789',\n",
       " '791',\n",
       " '792',\n",
       " '793',\n",
       " '794',\n",
       " '795',\n",
       " '796',\n",
       " '798',\n",
       " '799',\n",
       " '800',\n",
       " '802',\n",
       " '803',\n",
       " '804',\n",
       " '806',\n",
       " '807',\n",
       " '808',\n",
       " '810',\n",
       " '811',\n",
       " '813',\n",
       " '814',\n",
       " '815',\n",
       " '816',\n",
       " '817',\n",
       " '818',\n",
       " '819',\n",
       " '822',\n",
       " '824',\n",
       " '825',\n",
       " '828',\n",
       " '831',\n",
       " '832',\n",
       " '833',\n",
       " '836',\n",
       " '839',\n",
       " '840',\n",
       " '841',\n",
       " '844',\n",
       " '845',\n",
       " '846',\n",
       " '847',\n",
       " '848',\n",
       " '849',\n",
       " '853',\n",
       " '854',\n",
       " '855',\n",
       " '856',\n",
       " '858',\n",
       " '859',\n",
       " '860',\n",
       " '861',\n",
       " '862',\n",
       " '864',\n",
       " '866',\n",
       " '868',\n",
       " '870',\n",
       " '872',\n",
       " '873',\n",
       " '874',\n",
       " '876',\n",
       " '879',\n",
       " '880',\n",
       " '882',\n",
       " '883',\n",
       " '884',\n",
       " '888',\n",
       " '892',\n",
       " '893',\n",
       " '894',\n",
       " '896',\n",
       " '900',\n",
       " '901',\n",
       " '907',\n",
       " '908',\n",
       " '910',\n",
       " '911',\n",
       " '912',\n",
       " '913',\n",
       " '915',\n",
       " '916',\n",
       " '918',\n",
       " '920',\n",
       " '923',\n",
       " '924',\n",
       " '925',\n",
       " '926',\n",
       " '927',\n",
       " '928',\n",
       " '930',\n",
       " '931',\n",
       " '932',\n",
       " '935',\n",
       " '936',\n",
       " '938',\n",
       " '939',\n",
       " '940',\n",
       " '941',\n",
       " '942',\n",
       " '943',\n",
       " '944',\n",
       " '945',\n",
       " '948',\n",
       " '950',\n",
       " '951',\n",
       " '952',\n",
       " '953',\n",
       " '954',\n",
       " '955',\n",
       " '956',\n",
       " '958',\n",
       " '959',\n",
       " '960',\n",
       " '961',\n",
       " '963',\n",
       " '964',\n",
       " '965',\n",
       " '967',\n",
       " '968',\n",
       " '969',\n",
       " '970',\n",
       " '972',\n",
       " '973',\n",
       " '974',\n",
       " '975',\n",
       " '976',\n",
       " '978',\n",
       " '979',\n",
       " '980',\n",
       " '981',\n",
       " '982',\n",
       " '983',\n",
       " '984',\n",
       " '985',\n",
       " '988',\n",
       " '990',\n",
       " '991',\n",
       " '992',\n",
       " '993',\n",
       " '994',\n",
       " '996',\n",
       " '998',\n",
       " '999'}"
      ]
     },
     "execution_count": 10,
     "metadata": {},
     "output_type": "execute_result"
    }
   ],
   "source": [
    "set(data['TotalBsmtSF'])"
   ]
  },
  {
   "cell_type": "markdown",
   "metadata": {},
   "source": [
    "How many times does the whitespace string occur in TotalBsmtSF columns ?"
   ]
  },
  {
   "cell_type": "code",
   "execution_count": 11,
   "metadata": {},
   "outputs": [
    {
     "name": "stdout",
     "output_type": "stream",
     "text": [
      "There are  50  entries having whitespace in their TotalBsmtSF\n"
     ]
    }
   ],
   "source": [
    "print(\"There are \", len(data[data[\"TotalBsmtSF\"]==' ']) , \" entries having whitespace in their TotalBsmtSF\")"
   ]
  },
  {
   "cell_type": "markdown",
   "metadata": {},
   "source": [
    "These 50 entries are missing values, we can choose to delete them from our dataset (delete rows or the column). But if at each time there are some mising values in some column, we choose to delete the row or column, we may end up with only few rows and columns in our dataset. \n",
    "<br> There are multiple ways to deal with missing values. \n",
    "<br>Before choosing which strategy is the most appropriate, we should try to find out if a missing value has a specific meaning depending on the context. \n",
    "<br> In the context of TotalBsmtSF, this column contain the area of the basement if there is a basement. If there is no basement in the house, this value is put on 0. \n",
    "<br> So maybe the most appropriate way to deal with missing values TotalBsmtSF, is to consider these houses as house without a basement, and replace the whitespace values by zero. \n",
    "<br><br> \n",
    "There are many techniques to fill missing values (using the mean or the k-nearest neighbours for example). It depends on the context and the domain knowledge. \n",
    "<br>*note: if you have to deal with missing values when working with client data, you should validate the filling strategy with your client*<br><br>\n",
    "Here is a link if you want to learn more about working with missing values: https://towardsdatascience.com/how-to-handle-missing-data-8646b18db0d4\n",
    "<br>\n",
    "<br>\n",
    "So we replace the whitespace string by 0, and we can now convert the column type to float:"
   ]
  },
  {
   "cell_type": "code",
   "execution_count": 12,
   "metadata": {},
   "outputs": [],
   "source": [
    "data['TotalBsmtSF'] = data['TotalBsmtSF'].replace(' ', 0)\n",
    "data['TotalBsmtSF'] = data['TotalBsmtSF'].astype('float')"
   ]
  },
  {
   "cell_type": "markdown",
   "metadata": {},
   "source": [
    "The distribution of the TotalBsmtSF looks pretty similar to the GrLivArea one"
   ]
  },
  {
   "cell_type": "code",
   "execution_count": 13,
   "metadata": {},
   "outputs": [
    {
     "data": {
      "text/plain": [
       "<matplotlib.axes._subplots.AxesSubplot at 0x1c9df40a390>"
      ]
     },
     "execution_count": 13,
     "metadata": {},
     "output_type": "execute_result"
    },
    {
     "data": {
      "image/png": "[encoded data removed]",
      "text/plain": [
       "<Figure size 432x288 with 1 Axes>"
      ]
     },
     "metadata": {
      "needs_background": "light"
     },
     "output_type": "display_data"
    }
   ],
   "source": [
    "#scatter plot TotalBsmtSF/saleprice\n",
    "#TotalBsmtSF: Total square feet of basement area.\n",
    "var = 'TotalBsmtSF'\n",
    "data_ = pd.concat([data['SalePrice'], data[var]], axis=1)\n",
    "data_.plot.scatter(x=var, y='SalePrice', ylim=(0,800000))"
   ]
  },
  {
   "cell_type": "markdown",
   "metadata": {},
   "source": [
    "let's look if there are some dependencies between the SalePrice, and the Year of built, the number of bathroom or bedroom"
   ]
  },
  {
   "cell_type": "code",
   "execution_count": 14,
   "metadata": {},
   "outputs": [
    {
     "data": {
      "text/plain": [
       "<matplotlib.axes._subplots.AxesSubplot at 0x1c9df474fd0>"
      ]
     },
     "execution_count": 14,
     "metadata": {},
     "output_type": "execute_result"
    },
    {
     "data": {
      "image/png": "[encoded data removed]",
      "text/plain": [
       "<Figure size 432x288 with 1 Axes>"
      ]
     },
     "metadata": {
      "needs_background": "light"
     },
     "output_type": "display_data"
    }
   ],
   "source": [
    "#scatter plot YearBuilt/saleprice\n",
    "#YearBuilt: Original construction date.\n",
    "var = 'YearBuilt'\n",
    "data_ = pd.concat([data['SalePrice'], data[var]], axis=1)\n",
    "data_.plot.scatter(x=var, y='SalePrice', ylim=(0,800000))"
   ]
  },
  {
   "cell_type": "code",
   "execution_count": 15,
   "metadata": {},
   "outputs": [
    {
     "data": {
      "text/plain": [
       "<matplotlib.axes._subplots.AxesSubplot at 0x1c9df4b5dd8>"
      ]
     },
     "execution_count": 15,
     "metadata": {},
     "output_type": "execute_result"
    },
    {
     "data": {
      "image/png": "[encoded data removed]",
      "text/plain": [
       "<Figure size 432x288 with 1 Axes>"
      ]
     },
     "metadata": {
      "needs_background": "light"
     },
     "output_type": "display_data"
    }
   ],
   "source": [
    "#scatter plot FullBath/saleprice\n",
    "#FullBath: Full bathrooms above grade.   \n",
    "var = 'FullBath'\n",
    "data_ = pd.concat([data['SalePrice'], data[var]], axis=1)\n",
    "data_.plot.scatter(x=var, y='SalePrice', ylim=(0,800000))"
   ]
  },
  {
   "cell_type": "code",
   "execution_count": 16,
   "metadata": {
    "scrolled": true
   },
   "outputs": [
    {
     "data": {
      "text/plain": [
       "<matplotlib.axes._subplots.AxesSubplot at 0x1c9df52b630>"
      ]
     },
     "execution_count": 16,
     "metadata": {},
     "output_type": "execute_result"
    },
    {
     "data": {
      "image/png": "[encoded data removed]",
      "text/plain": [
       "<Figure size 432x288 with 1 Axes>"
      ]
     },
     "metadata": {
      "needs_background": "light"
     },
     "output_type": "display_data"
    }
   ],
   "source": [
    "#scatter plot BedroomAbvGr/saleprice\n",
    "#BedroomAbvGr:  Bedrooms above grade (does NOT include basement bedrooms)\n",
    "var = 'BedroomAbvGr'\n",
    "data_ = pd.concat([data['SalePrice'], data[var]], axis=1)\n",
    "data_.plot.scatter(x=var, y='SalePrice', ylim=(0,800000))"
   ]
  },
  {
   "cell_type": "markdown",
   "metadata": {},
   "source": [
    " ### What about correlation between continious features ?"
   ]
  },
  {
   "cell_type": "markdown",
   "metadata": {},
   "source": [
    "The most basic idea of correlation is \"as one variable increases, does the other variable increase (positive correlation), decrease (negative correlation), or stay the same (no correlation)\" with a scale such that perfect positive correlation is +1, no correlation is 0, and perfect negative correlation is -1. <br>\n",
    "Just like the month-of-the-year is correlated with the average daily temperature, and the hour-of-the-day is correlated with the amount of light outdoors. <br>\n",
    "The most commonly used mathematical defintion of correlation between continious features is **Pearson's R** which result in a range of [-1,1]\n",
    "<img src=\"images/pearson_correlation.png\" style=\"width:400px;height:90px;\">\n",
    "<br>Pearson's R works well for calculation correlation between two continious features, we'll se later an alternative for the correlation between categorical features"
   ]
  },
  {
   "cell_type": "code",
   "execution_count": 17,
   "metadata": {},
   "outputs": [
    {
     "data": {
      "text/html": [
       "<div>\n",
       "<style scoped>\n",
       "    .dataframe tbody tr th:only-of-type {\n",
       "        vertical-align: middle;\n",
       "    }\n",
       "\n",
       "    .dataframe tbody tr th {\n",
       "        vertical-align: top;\n",
       "    }\n",
       "\n",
       "    .dataframe thead th {\n",
       "        text-align: right;\n",
       "    }\n",
       "</style>\n",
       "<table border=\"1\" class=\"dataframe\">\n",
       "  <thead>\n",
       "    <tr style=\"text-align: right;\">\n",
       "      <th></th>\n",
       "      <th>GrLivArea</th>\n",
       "      <th>TotalBsmtSF</th>\n",
       "      <th>YearBuilt</th>\n",
       "      <th>FullBath</th>\n",
       "      <th>BedroomAbvGr</th>\n",
       "      <th>KitchenAbvGr</th>\n",
       "      <th>GarageCars</th>\n",
       "      <th>PoolArea</th>\n",
       "    </tr>\n",
       "  </thead>\n",
       "  <tbody>\n",
       "    <tr>\n",
       "      <th>0</th>\n",
       "      <td>1710</td>\n",
       "      <td>856.0</td>\n",
       "      <td>2003</td>\n",
       "      <td>2</td>\n",
       "      <td>3</td>\n",
       "      <td>1</td>\n",
       "      <td>2</td>\n",
       "      <td>0</td>\n",
       "    </tr>\n",
       "    <tr>\n",
       "      <th>1</th>\n",
       "      <td>1262</td>\n",
       "      <td>1262.0</td>\n",
       "      <td>1976</td>\n",
       "      <td>2</td>\n",
       "      <td>3</td>\n",
       "      <td>1</td>\n",
       "      <td>2</td>\n",
       "      <td>0</td>\n",
       "    </tr>\n",
       "    <tr>\n",
       "      <th>2</th>\n",
       "      <td>1786</td>\n",
       "      <td>920.0</td>\n",
       "      <td>2001</td>\n",
       "      <td>2</td>\n",
       "      <td>3</td>\n",
       "      <td>1</td>\n",
       "      <td>2</td>\n",
       "      <td>0</td>\n",
       "    </tr>\n",
       "    <tr>\n",
       "      <th>3</th>\n",
       "      <td>1717</td>\n",
       "      <td>756.0</td>\n",
       "      <td>1915</td>\n",
       "      <td>1</td>\n",
       "      <td>3</td>\n",
       "      <td>1</td>\n",
       "      <td>3</td>\n",
       "      <td>0</td>\n",
       "    </tr>\n",
       "    <tr>\n",
       "      <th>4</th>\n",
       "      <td>2198</td>\n",
       "      <td>1145.0</td>\n",
       "      <td>2000</td>\n",
       "      <td>2</td>\n",
       "      <td>4</td>\n",
       "      <td>1</td>\n",
       "      <td>3</td>\n",
       "      <td>0</td>\n",
       "    </tr>\n",
       "  </tbody>\n",
       "</table>\n",
       "</div>"
      ],
      "text/plain": [
       "   GrLivArea  TotalBsmtSF  YearBuilt  FullBath  BedroomAbvGr  KitchenAbvGr  \\\n",
       "0       1710        856.0       2003         2             3             1   \n",
       "1       1262       1262.0       1976         2             3             1   \n",
       "2       1786        920.0       2001         2             3             1   \n",
       "3       1717        756.0       1915         1             3             1   \n",
       "4       2198       1145.0       2000         2             4             1   \n",
       "\n",
       "   GarageCars  PoolArea  \n",
       "0           2         0  \n",
       "1           2         0  \n",
       "2           2         0  \n",
       "3           3         0  \n",
       "4           3         0  "
      ]
     },
     "execution_count": 17,
     "metadata": {},
     "output_type": "execute_result"
    }
   ],
   "source": [
    "cont_features= [\"GrLivArea\",\"TotalBsmtSF\",\"YearBuilt\",\"FullBath\",\"BedroomAbvGr\",\"KitchenAbvGr\",\"GarageCars\",\"PoolArea\"]\n",
    "data[cont_features].head()"
   ]
  },
  {
   "cell_type": "code",
   "execution_count": 18,
   "metadata": {},
   "outputs": [
    {
     "data": {
      "text/plain": [
       "<matplotlib.axes._subplots.AxesSubplot at 0x1c9df5f35c0>"
      ]
     },
     "execution_count": 18,
     "metadata": {},
     "output_type": "execute_result"
    },
    {
     "data": {
      "image/png": "[encoded data removed]",
      "text/plain": [
       "<Figure size 432x288 with 2 Axes>"
      ]
     },
     "metadata": {
      "needs_background": "light"
     },
     "output_type": "display_data"
    }
   ],
   "source": [
    "corr = data[cont_features].corr()#by default pearson\n",
    "sns.heatmap(corr, \n",
    "            xticklabels=corr.columns.values,\n",
    "            yticklabels=corr.columns.values)"
   ]
  },
  {
   "cell_type": "markdown",
   "metadata": {},
   "source": [
    "### Build our model using continious features only"
   ]
  },
  {
   "cell_type": "markdown",
   "metadata": {},
   "source": [
    "Before introducing Categorical features, why not trying to fit a linear model only on continious features and see if we can get good prediction only based them?<br>\n",
    "Using the 8 continious features : GrLivArea , TotalBsmtSF, YearBuilt, FullBath, BedroomAbvGr, KitchenAbvGr, GarageCars, PoolArea \n",
    "\n",
    "- First, we are going to split our dataset in train set (using to train the model) and test set(using to evaluate the model).\n",
    "- Then we are going to re-scale the data, in order to have the same scale of values on all features.(cf. Feature scaling below)\n",
    "- Then, we train a linear regression model based on training set to set parameters of the model((theta1, theta2, ..., thetaN) on their most optimal values. The training of the model will occur through multiple iterations, where each iteration aims to update the parameters in order to reduce a certain error. In our example, we use the LinearRegression function from Scikit-learn package, which uses the Mean squared error **(mse)** as an error calculation.\n",
    "- Finally, we'll test the trained model on test set and evaluate the results.(we'll also evaluate results on training set, to try to find if there is some overfitting (when model performs very well on training data and very bad on testing data)).\n",
    "<br><br><br>\n",
    "<img src='images/linear_reg.jpg' style=\"width:30%;height:30%;\">\n",
    "<img src='images/h.png' style=\"width:30%;height:30%;\">\n",
    "<br>\n",
    "<br>\n",
    "\n",
    "**Feature scaling**\n",
    "<br>Features do usually not have the same range of values. In our example, the feature GrLivArea has values between [334,5642] while FullBath feature range from 0 to 3, and sometimes the gap can be much greater for example when one of the features represents a price where we find much more zeros. (100000 ..)\n",
    "<br>The difference in scale may not be liked by the algorithme, where he will spend more time to find his optimal solution (especially when using gradient descent!).\n",
    "<br>So feature scaling consists on putting all the features and even the target at the same scale before training the model. \n",
    "\n",
    "<img src='images/scaling.png'>\n",
    "\n",
    "One of the methods to scale data is to use the Standard scaler which perform this transformation on each feature:\n",
    "<img src='images/standardscaler.jpg'>"
   ]
  },
  {
   "cell_type": "code",
   "execution_count": 19,
   "metadata": {},
   "outputs": [
    {
     "name": "stdout",
     "output_type": "stream",
     "text": [
      "Mean squared error on Training data :  40080.96232086125\n"
     ]
    }
   ],
   "source": [
    "#Get data with continious features only\n",
    "X_continious = data[cont_features]\n",
    "y=data['SalePrice']\n",
    "\n",
    "#Split data on training and testing set\n",
    "X_train, X_test, y_train, y_test = train_test_split(X_continious, y, test_size=0.33, random_state=42)\n",
    "\n",
    "#Scale the data using the standard scaler\n",
    "scaler = StandardScaler()\n",
    "scaler.fit(X_train)\n",
    "X_train_scaled = scaler.transform(X_train)\n",
    "\n",
    "#train data\n",
    "reg = LinearRegression().fit(X_train_scaled, y_train)\n",
    "\n",
    "#evaluate on training data\n",
    "y_pred_train = reg.predict(X_train_scaled)\n",
    "print(\"Mean squared error on Training data : \", np.sqrt(mse(y_pred_train, y_train)))\n"
   ]
  },
  {
   "cell_type": "code",
   "execution_count": 20,
   "metadata": {
    "scrolled": true
   },
   "outputs": [
    {
     "name": "stdout",
     "output_type": "stream",
     "text": [
      "Mean squared error on Training data :  49514.2267008846\n"
     ]
    }
   ],
   "source": [
    "y_pred_test = reg.predict(scaler.transform(X_test))\n",
    "print(\"Mean squared error on Training data : \", np.sqrt(mse(y_pred_test, y_test)))"
   ]
  },
  {
   "cell_type": "markdown",
   "metadata": {},
   "source": [
    "Model perfoms better on training set which is not a surprise while it was trained to fit the training data. \n",
    "<br>The MSE for test data is not so bad comparing to training data even if there is some overfitting. \n",
    "<br>If we compare the prediction using the model compared to a lazy prediction which will simply take the mean of the salePrice, we can see that even with a limited number of features we can get model results 2 times better. "
   ]
  },
  {
   "cell_type": "code",
   "execution_count": 21,
   "metadata": {},
   "outputs": [
    {
     "name": "stdout",
     "output_type": "stream",
     "text": [
      "mse with basic mean :  86822.79636673273\n"
     ]
    }
   ],
   "source": [
    "print(\"mse with basic mean : \", np.sqrt(mse(pd.Series((np.full(len(y_test), y_test.mean()))), y_test)))"
   ]
  },
  {
   "cell_type": "markdown",
   "metadata": {},
   "source": [
    "### 2.2.2- Categorical features"
   ]
  },
  {
   "cell_type": "markdown",
   "metadata": {},
   "source": [
    "Previously, we put the focus on continious features only. We explored values of continious data and build a model based on 8 continious features. Now, let's consider the categorical features and add them to our model. \n",
    "<br> First, same as we did for continous features, we'll de some data exploration on categorical values\n",
    "<br> Then, we'll add categorical feature to our model, and see if it improve the prediction."
   ]
  },
  {
   "cell_type": "markdown",
   "metadata": {},
   "source": [
    "Boxplot is one of the likely useful vizualisation of categorical values\n",
    "<img src='images/boxplot.png' style=\"width:60%;height:60%;\">\n",
    "\n",
    "**Extremely low values** are considered as outliers, in that case the minimum of the box plot is set on Q1-1.5*IQR*<br>\n",
    "**Extremely hign values** are considerd as outliers, in that case the maximum of the box plot is set on Q3+1.5*IQR*"
   ]
  },
  {
   "cell_type": "markdown",
   "metadata": {},
   "source": [
    "**MSZoning** identifies the general zoning classification of the sale. \n",
    "- A\t    :Agriculture\n",
    "- C(all):Commercial\n",
    "- FV\t:Floating Village Residential\n",
    "- I\t    :Industrial\n",
    "- RH\t:Residential High Density\n",
    "- RL\t:Residential Low Density\n",
    "- RP\t:Residential Low Density Park \n",
    "- RM\t:Residential Medium Density"
   ]
  },
  {
   "cell_type": "code",
   "execution_count": 22,
   "metadata": {},
   "outputs": [
    {
     "data": {
      "image/png": "[encoded data removed]",
      "text/plain": [
       "<Figure size 432x288 with 1 Axes>"
      ]
     },
     "metadata": {},
     "output_type": "display_data"
    },
    {
     "data": {
      "text/plain": [
       "<matplotlib.axes._subplots.AxesSubplot at 0x1c9df73b780>"
      ]
     },
     "execution_count": 22,
     "metadata": {},
     "output_type": "execute_result"
    },
    {
     "data": {
      "image/png": "[encoded data removed]",
      "text/plain": [
       "<Figure size 432x288 with 1 Axes>"
      ]
     },
     "metadata": {},
     "output_type": "display_data"
    }
   ],
   "source": [
    "mszoning_count = data['MSZoning'].value_counts()\n",
    "sns.set(style=\"darkgrid\")\n",
    "sns.barplot(mszoning_count.index, mszoning_count.values, alpha=0.9)\n",
    "plt.title('Frequency Distribution of MSZoning')\n",
    "plt.ylabel('Number of Occurrences', fontsize=12)\n",
    "plt.xlabel('MSZoning', fontsize=12)\n",
    "plt.show()\n",
    "sns.boxplot(x='MSZoning', y='SalePrice', data=data, order=[\"C(all)\",'RM', \"RH\",\"RL\",\"FV\"])"
   ]
  },
  {
   "cell_type": "markdown",
   "metadata": {},
   "source": [
    "**Utilities**: Type of utilities available\n",
    "- AllPub\t: All public Utilities (E,G,W,& S)\t\n",
    "- NoSewr\t: Electricity, Gas, and Water (Septic Tank)\n",
    "- NoSeWa\t: Electricity and Gas Only\n",
    "- ELO\t: Electricity only"
   ]
  },
  {
   "cell_type": "code",
   "execution_count": 23,
   "metadata": {
    "scrolled": true
   },
   "outputs": [
    {
     "data": {
      "image/png": "[encoded data removed]",
      "text/plain": [
       "<Figure size 432x288 with 1 Axes>"
      ]
     },
     "metadata": {},
     "output_type": "display_data"
    },
    {
     "data": {
      "text/plain": [
       "AllPub    1458\n",
       "NoSeWa       1\n",
       "Name: Utilities, dtype: int64"
      ]
     },
     "execution_count": 23,
     "metadata": {},
     "output_type": "execute_result"
    }
   ],
   "source": [
    "utilities_count = data['Utilities'].value_counts()\n",
    "sns.set(style=\"darkgrid\")\n",
    "sns.barplot(utilities_count.index, utilities_count.values, alpha=0.9)\n",
    "plt.title('Frequency Distribution of Utilities')\n",
    "plt.ylabel('Number of Occurrences', fontsize=12)\n",
    "plt.xlabel('Utilities', fontsize=12)\n",
    "plt.show()\n",
    "data['Utilities'].value_counts()"
   ]
  },
  {
   "cell_type": "markdown",
   "metadata": {},
   "source": [
    "**HeatingQC**: Heating quality and condition\n",
    "- Ex\t: Excellent\n",
    "- Gd\t: Good\n",
    "- TA\t: Average/Typical\n",
    "- Fa\t: Fair\n",
    "- Po\t: Poor"
   ]
  },
  {
   "cell_type": "markdown",
   "metadata": {},
   "source": [
    "We saw at the begining of the notebook, that HeatingQC has 80 null values. In this case we choose to fill missing values using the most occured values which is Ex (Excellent)"
   ]
  },
  {
   "cell_type": "code",
   "execution_count": 24,
   "metadata": {},
   "outputs": [
    {
     "data": {
      "text/plain": [
       "Ex    702\n",
       "TA    400\n",
       "Gd    228\n",
       "Fa     48\n",
       "Po      1\n",
       "Name: HeatingQC, dtype: int64"
      ]
     },
     "execution_count": 24,
     "metadata": {},
     "output_type": "execute_result"
    }
   ],
   "source": [
    "data['HeatingQC'].value_counts()"
   ]
  },
  {
   "cell_type": "code",
   "execution_count": 25,
   "metadata": {},
   "outputs": [],
   "source": [
    "data['HeatingQC'] = data['HeatingQC'].fillna(\"Ex\")"
   ]
  },
  {
   "cell_type": "code",
   "execution_count": 26,
   "metadata": {},
   "outputs": [
    {
     "data": {
      "text/plain": [
       "Ex    782\n",
       "TA    400\n",
       "Gd    228\n",
       "Fa     48\n",
       "Po      1\n",
       "Name: HeatingQC, dtype: int64"
      ]
     },
     "execution_count": 26,
     "metadata": {},
     "output_type": "execute_result"
    }
   ],
   "source": [
    "data['HeatingQC'].value_counts()"
   ]
  },
  {
   "cell_type": "code",
   "execution_count": 27,
   "metadata": {},
   "outputs": [
    {
     "data": {
      "image/png": "[encoded data removed]",
      "text/plain": [
       "<Figure size 432x288 with 1 Axes>"
      ]
     },
     "metadata": {},
     "output_type": "display_data"
    }
   ],
   "source": [
    "heating_count = data['HeatingQC'].value_counts()\n",
    "sns.set(style=\"darkgrid\")\n",
    "sns.barplot(heating_count.index, heating_count.values, alpha=0.9)\n",
    "plt.title('Frequency Distribution of Heating')\n",
    "plt.ylabel('Number of Occurrences', fontsize=12)\n",
    "plt.xlabel('Heating', fontsize=12)\n",
    "plt.show()"
   ]
  },
  {
   "cell_type": "code",
   "execution_count": 28,
   "metadata": {},
   "outputs": [
    {
     "data": {
      "image/png": "[encoded data removed]",
      "text/plain": [
       "<Figure size 432x288 with 1 Axes>"
      ]
     },
     "metadata": {},
     "output_type": "display_data"
    }
   ],
   "source": [
    "centralair_count = data['CentralAir'].value_counts()\n",
    "sns.set(style=\"darkgrid\")\n",
    "sns.barplot(centralair_count.index, centralair_count.values, alpha=0.9)\n",
    "plt.title('Frequency Distribution of Central air')\n",
    "plt.ylabel('Number of Occurrences', fontsize=12)\n",
    "plt.xlabel('Central air', fontsize=12)\n",
    "plt.show()"
   ]
  },
  {
   "cell_type": "code",
   "execution_count": 29,
   "metadata": {
    "scrolled": true
   },
   "outputs": [
    {
     "data": {
      "image/png": "[encoded data removed]",
      "text/plain": [
       "<Figure size 432x288 with 1 Axes>"
      ]
     },
     "metadata": {},
     "output_type": "display_data"
    }
   ],
   "source": [
    "heatingqc_count = data['HeatingQC'].value_counts()\n",
    "sns.set(style=\"darkgrid\")\n",
    "sns.barplot(heatingqc_count.index, heatingqc_count.values, alpha=0.9)\n",
    "plt.title('Frequency Distribution of HeatingQC')\n",
    "plt.ylabel('Number of Occurrences', fontsize=12)\n",
    "plt.xlabel('HeatingQC', fontsize=12)\n",
    "plt.show()"
   ]
  },
  {
   "cell_type": "code",
   "execution_count": 30,
   "metadata": {
    "scrolled": false
   },
   "outputs": [
    {
     "data": {
      "image/png": "[encoded data removed]",
      "text/plain": [
       "<Figure size 432x288 with 1 Axes>"
      ]
     },
     "metadata": {},
     "output_type": "display_data"
    },
    {
     "data": {
      "text/plain": [
       "<matplotlib.axes._subplots.AxesSubplot at 0x1c9dfa07048>"
      ]
     },
     "execution_count": 30,
     "metadata": {},
     "output_type": "execute_result"
    },
    {
     "data": {
      "image/png": "[encoded data removed]",
      "text/plain": [
       "<Figure size 432x288 with 1 Axes>"
      ]
     },
     "metadata": {},
     "output_type": "display_data"
    }
   ],
   "source": [
    "OverallQual_count = data['OverallQual'].value_counts()\n",
    "sns.set(style=\"darkgrid\")\n",
    "sns.barplot(OverallQual_count.index, OverallQual_count.values, alpha=0.9)\n",
    "plt.title('Frequency Distribution of OverallQual')\n",
    "plt.ylabel('Number of Occurrences', fontsize=12)\n",
    "plt.xlabel('OverallQual', fontsize=12)\n",
    "plt.show()\n",
    "sns.boxplot(x='OverallQual', y='SalePrice', data=data)"
   ]
  },
  {
   "cell_type": "markdown",
   "metadata": {},
   "source": [
    "# Correlation\n",
    "As seen before the Pearson's R correlation is a good indicator for continious features while for categorical features we do not have integer values to do the calculation.\n",
    "<br>To solve this issue, we can imagine converting categorical feature into intergers and then use Pearson's R correlation expression. And one of the method to convert categorical values into integers is to use the **one-hot encoding** transformation function (or also called dummies). The one-hot encoding transformation, will transform a categorical feature size which has for example 3 possibile values (S,M,L) into 3 binary features (Size_S, Size_M, Size_L).\n",
    "<br>Using one-hot encoding technique result usually on a number of features pretty much bigger than the initial one, while each value correspond to a column. \n",
    "<br> One-hot encoding is very useful and we'll use later on this notebook, but use it to observe correlation make the observation impossible because of the number of features. \n",
    "<br>So an alernative to Pearson's R for categorical features is **Cramer’s V** . \n",
    "<br>Cramers'V is based on Pearson's chi-squared statistic and use this expression (if you want to know more about it https://en.wikipedia.org/wiki/Cram%C3%A9r%27s_V)\n",
    "<img src=\"images/cramersv.png\" style=\"width:400px;height:90px;\">\n",
    "\n",
    "*If you want to know more about correlation in general*<br>\n",
    "https://en.wikipedia.org/wiki/Pearson_correlation_coefficient<br>\n",
    "https://stats.stackexchange.com/questions/119835/correlation-between-a-nominal-iv-and-a-continuous-dv-variable/124618#124618<br>\n",
    "https://towardsdatascience.com/the-search-for-categorical-correlation-a1cf7f1888c9"
   ]
  },
  {
   "cell_type": "code",
   "execution_count": 31,
   "metadata": {},
   "outputs": [
    {
     "data": {
      "image/png": "[encoded data removed]",
      "text/plain": [
       "<Figure size 504x432 with 2 Axes>"
      ]
     },
     "metadata": {},
     "output_type": "display_data"
    }
   ],
   "source": [
    "def cramers_v(x, y):\n",
    "    confusion_matrix = pd.crosstab(x,y)\n",
    "    chi2 = ss.chi2_contingency(confusion_matrix)[0]#Chi-square test of independence of variables in a contingency table.\n",
    "    n = confusion_matrix.sum().sum()\n",
    "    phi2 = chi2/n\n",
    "    r,k = confusion_matrix.shape\n",
    "    return np.sqrt(phi2/min((k-1),(r-1)))\n",
    "\n",
    "def correlation_matrix(cols, data):\n",
    "    corrM = np.zeros((len(cols),len(cols)))\n",
    "    for col1, col2 in itertools.combinations(cols, 2):\n",
    "        idx1, idx2 = cols.index(col1), cols.index(col2)\n",
    "        corrM[idx1, idx2] = cramers_v(data[col1], data[col2])\n",
    "        corrM[idx2, idx1] = corrM[idx1, idx2]\n",
    "    for i in range(len(cols)):\n",
    "        corrM[i,i]=1\n",
    "    corr = pd.DataFrame(corrM, index=cols, columns=cols)\n",
    "    return corr\n",
    "\n",
    "cols = [\"MSZoning\", \"Heating\",\"HeatingQC\",\"CentralAir\",\"OverallQual\"]\n",
    "corr= correlation_matrix(cols, data)\n",
    "fig, ax = plt.subplots(figsize=(7, 6))\n",
    "ax = sns.heatmap(corr, annot=True, ax=ax); ax.set_title(\"Cramer V Correlation between Variables\");"
   ]
  },
  {
   "cell_type": "markdown",
   "metadata": {},
   "source": [
    "## 3- Build our model using all features "
   ]
  },
  {
   "cell_type": "markdown",
   "metadata": {},
   "source": [
    "- First convert Categorical on dummies (one-hot encoding)\n",
    "- Merge continious features with dummies\n",
    "- Split dataset on train and test set\n",
    "- Do feature scaling\n",
    "- Train model\n",
    "- Tvaluate model\n",
    "- Regularize model"
   ]
  },
  {
   "cell_type": "code",
   "execution_count": 32,
   "metadata": {},
   "outputs": [],
   "source": [
    "data_dummies = data[cols]\n",
    "for cat_col in cols :\n",
    "    if cat_col != \"SalePrice\":\n",
    "        col_one_hot = pd.get_dummies(data[cat_col], prefix=cat_col)\n",
    "        data_dummies = data_dummies.drop(cat_col, axis=1)\n",
    "        data_dummies = data_dummies.join(col_one_hot)"
   ]
  },
  {
   "cell_type": "code",
   "execution_count": 33,
   "metadata": {
    "scrolled": true
   },
   "outputs": [
    {
     "data": {
      "text/html": [
       "<div>\n",
       "<style scoped>\n",
       "    .dataframe tbody tr th:only-of-type {\n",
       "        vertical-align: middle;\n",
       "    }\n",
       "\n",
       "    .dataframe tbody tr th {\n",
       "        vertical-align: top;\n",
       "    }\n",
       "\n",
       "    .dataframe thead th {\n",
       "        text-align: right;\n",
       "    }\n",
       "</style>\n",
       "<table border=\"1\" class=\"dataframe\">\n",
       "  <thead>\n",
       "    <tr style=\"text-align: right;\">\n",
       "      <th></th>\n",
       "      <th>MSZoning_C (all)</th>\n",
       "      <th>MSZoning_FV</th>\n",
       "      <th>MSZoning_RH</th>\n",
       "      <th>MSZoning_RL</th>\n",
       "      <th>MSZoning_RM</th>\n",
       "      <th>Heating_Floor</th>\n",
       "      <th>Heating_GasA</th>\n",
       "      <th>Heating_GasW</th>\n",
       "      <th>Heating_Grav</th>\n",
       "      <th>Heating_OthW</th>\n",
       "      <th>...</th>\n",
       "      <th>OverallQual_1</th>\n",
       "      <th>OverallQual_2</th>\n",
       "      <th>OverallQual_3</th>\n",
       "      <th>OverallQual_4</th>\n",
       "      <th>OverallQual_5</th>\n",
       "      <th>OverallQual_6</th>\n",
       "      <th>OverallQual_7</th>\n",
       "      <th>OverallQual_8</th>\n",
       "      <th>OverallQual_9</th>\n",
       "      <th>OverallQual_10</th>\n",
       "    </tr>\n",
       "  </thead>\n",
       "  <tbody>\n",
       "    <tr>\n",
       "      <th>0</th>\n",
       "      <td>0</td>\n",
       "      <td>0</td>\n",
       "      <td>0</td>\n",
       "      <td>1</td>\n",
       "      <td>0</td>\n",
       "      <td>0</td>\n",
       "      <td>1</td>\n",
       "      <td>0</td>\n",
       "      <td>0</td>\n",
       "      <td>0</td>\n",
       "      <td>...</td>\n",
       "      <td>0</td>\n",
       "      <td>0</td>\n",
       "      <td>0</td>\n",
       "      <td>0</td>\n",
       "      <td>0</td>\n",
       "      <td>0</td>\n",
       "      <td>1</td>\n",
       "      <td>0</td>\n",
       "      <td>0</td>\n",
       "      <td>0</td>\n",
       "    </tr>\n",
       "    <tr>\n",
       "      <th>1</th>\n",
       "      <td>0</td>\n",
       "      <td>0</td>\n",
       "      <td>0</td>\n",
       "      <td>1</td>\n",
       "      <td>0</td>\n",
       "      <td>0</td>\n",
       "      <td>1</td>\n",
       "      <td>0</td>\n",
       "      <td>0</td>\n",
       "      <td>0</td>\n",
       "      <td>...</td>\n",
       "      <td>0</td>\n",
       "      <td>0</td>\n",
       "      <td>0</td>\n",
       "      <td>0</td>\n",
       "      <td>0</td>\n",
       "      <td>1</td>\n",
       "      <td>0</td>\n",
       "      <td>0</td>\n",
       "      <td>0</td>\n",
       "      <td>0</td>\n",
       "    </tr>\n",
       "    <tr>\n",
       "      <th>2</th>\n",
       "      <td>0</td>\n",
       "      <td>0</td>\n",
       "      <td>0</td>\n",
       "      <td>1</td>\n",
       "      <td>0</td>\n",
       "      <td>0</td>\n",
       "      <td>1</td>\n",
       "      <td>0</td>\n",
       "      <td>0</td>\n",
       "      <td>0</td>\n",
       "      <td>...</td>\n",
       "      <td>0</td>\n",
       "      <td>0</td>\n",
       "      <td>0</td>\n",
       "      <td>0</td>\n",
       "      <td>0</td>\n",
       "      <td>0</td>\n",
       "      <td>1</td>\n",
       "      <td>0</td>\n",
       "      <td>0</td>\n",
       "      <td>0</td>\n",
       "    </tr>\n",
       "    <tr>\n",
       "      <th>3</th>\n",
       "      <td>0</td>\n",
       "      <td>0</td>\n",
       "      <td>0</td>\n",
       "      <td>1</td>\n",
       "      <td>0</td>\n",
       "      <td>0</td>\n",
       "      <td>1</td>\n",
       "      <td>0</td>\n",
       "      <td>0</td>\n",
       "      <td>0</td>\n",
       "      <td>...</td>\n",
       "      <td>0</td>\n",
       "      <td>0</td>\n",
       "      <td>0</td>\n",
       "      <td>0</td>\n",
       "      <td>0</td>\n",
       "      <td>0</td>\n",
       "      <td>1</td>\n",
       "      <td>0</td>\n",
       "      <td>0</td>\n",
       "      <td>0</td>\n",
       "    </tr>\n",
       "    <tr>\n",
       "      <th>4</th>\n",
       "      <td>0</td>\n",
       "      <td>0</td>\n",
       "      <td>0</td>\n",
       "      <td>1</td>\n",
       "      <td>0</td>\n",
       "      <td>0</td>\n",
       "      <td>1</td>\n",
       "      <td>0</td>\n",
       "      <td>0</td>\n",
       "      <td>0</td>\n",
       "      <td>...</td>\n",
       "      <td>0</td>\n",
       "      <td>0</td>\n",
       "      <td>0</td>\n",
       "      <td>0</td>\n",
       "      <td>0</td>\n",
       "      <td>0</td>\n",
       "      <td>0</td>\n",
       "      <td>1</td>\n",
       "      <td>0</td>\n",
       "      <td>0</td>\n",
       "    </tr>\n",
       "  </tbody>\n",
       "</table>\n",
       "<p>5 rows × 28 columns</p>\n",
       "</div>"
      ],
      "text/plain": [
       "   MSZoning_C (all)  MSZoning_FV  MSZoning_RH  MSZoning_RL  MSZoning_RM  \\\n",
       "0                 0            0            0            1            0   \n",
       "1                 0            0            0            1            0   \n",
       "2                 0            0            0            1            0   \n",
       "3                 0            0            0            1            0   \n",
       "4                 0            0            0            1            0   \n",
       "\n",
       "   Heating_Floor  Heating_GasA  Heating_GasW  Heating_Grav  Heating_OthW  ...  \\\n",
       "0              0             1             0             0             0  ...   \n",
       "1              0             1             0             0             0  ...   \n",
       "2              0             1             0             0             0  ...   \n",
       "3              0             1             0             0             0  ...   \n",
       "4              0             1             0             0             0  ...   \n",
       "\n",
       "   OverallQual_1  OverallQual_2  OverallQual_3  OverallQual_4  OverallQual_5  \\\n",
       "0              0              0              0              0              0   \n",
       "1              0              0              0              0              0   \n",
       "2              0              0              0              0              0   \n",
       "3              0              0              0              0              0   \n",
       "4              0              0              0              0              0   \n",
       "\n",
       "   OverallQual_6  OverallQual_7  OverallQual_8  OverallQual_9  OverallQual_10  \n",
       "0              0              1              0              0               0  \n",
       "1              1              0              0              0               0  \n",
       "2              0              1              0              0               0  \n",
       "3              0              1              0              0               0  \n",
       "4              0              0              1              0               0  \n",
       "\n",
       "[5 rows x 28 columns]"
      ]
     },
     "execution_count": 33,
     "metadata": {},
     "output_type": "execute_result"
    }
   ],
   "source": [
    "data_dummies.head()"
   ]
  },
  {
   "cell_type": "code",
   "execution_count": 34,
   "metadata": {
    "scrolled": true
   },
   "outputs": [],
   "source": [
    "X = data_dummies.join(data[cont_features])"
   ]
  },
  {
   "cell_type": "code",
   "execution_count": 35,
   "metadata": {},
   "outputs": [
    {
     "name": "stdout",
     "output_type": "stream",
     "text": [
      "mse sklearn :  33169.129326057395\n"
     ]
    }
   ],
   "source": [
    "y = data['SalePrice']\n",
    "X_train, X_test, y_train, y_test = train_test_split(X, y, test_size=0.33, random_state=42)\n",
    "\n",
    "scaler_1 = StandardScaler()\n",
    "scaler_1.fit(X_train)\n",
    "X_train_scaled = scaler_1.transform(X_train)\n",
    "\n",
    "regression = LinearRegression().fit(X_train, y_train)\n",
    "\n",
    "y_pred_train = regression.predict(X_train)\n",
    "print(\"mse sklearn : \", np.sqrt(mse(y_pred_train, y_train)))"
   ]
  },
  {
   "cell_type": "code",
   "execution_count": 36,
   "metadata": {},
   "outputs": [],
   "source": [
    "y_pred_test = regression.predict(scaler_1.transform(X_test))"
   ]
  },
  {
   "cell_type": "code",
   "execution_count": 38,
   "metadata": {},
   "outputs": [
    {
     "name": "stdout",
     "output_type": "stream",
     "text": [
      "mse sklearn :  7044473354238404.0\n"
     ]
    }
   ],
   "source": [
    "print(\"mse sklearn : \", np.sqrt(mse(y_pred_test, y_test)))"
   ]
  },
  {
   "cell_type": "markdown",
   "metadata": {},
   "source": [
    "### TBD - Explication Ridge regression"
   ]
  },
  {
   "cell_type": "code",
   "execution_count": 39,
   "metadata": {},
   "outputs": [
    {
     "name": "stdout",
     "output_type": "stream",
     "text": [
      "mse sklearn :  35789.98402091744\n"
     ]
    }
   ],
   "source": [
    "## train model using ridge regression using all variables\n",
    "ridgeReg = Ridge(alpha=0.5, normalize=True) #Ridge(alpha=0.05, normalize=True)\n",
    "ridgeReg.fit(X_train_scaled,y_train)\n",
    "y_pred_ridge_ = ridgeReg.predict(X_train_scaled)\n",
    "print(\"mse sklearn : \", np.sqrt(mse(y_pred_ridge_, y_train)))"
   ]
  },
  {
   "cell_type": "code",
   "execution_count": 40,
   "metadata": {},
   "outputs": [],
   "source": [
    "y_test_pred_ridge = ridgeReg.predict(scaler_1.transform(X_test))"
   ]
  },
  {
   "cell_type": "code",
   "execution_count": 41,
   "metadata": {
    "scrolled": true
   },
   "outputs": [
    {
     "name": "stdout",
     "output_type": "stream",
     "text": [
      "mse sklearn :  42537.63325640278\n"
     ]
    }
   ],
   "source": [
    "print(\"mse sklearn : \", np.sqrt(mse(y_test_pred_ridge, y_test)))"
   ]
  },
  {
   "cell_type": "markdown",
   "metadata": {},
   "source": [
    "### TBD- explication GridSearch"
   ]
  },
  {
   "cell_type": "code",
   "execution_count": 42,
   "metadata": {},
   "outputs": [],
   "source": [
    "model = Ridge()\n",
    "params = {'alpha': np.logspace(-3,3,15)}\n",
    "    \n",
    "grid = GridSearchCV(estimator=model, cv=5, param_grid=params, return_train_score=False,\n",
    "                        n_jobs=4, refit=True)\n",
    "    \n",
    "grid.fit(X_train_scaled, y_train)\n",
    "y_pred_ridge_ = grid.predict(X_train_scaled)"
   ]
  },
  {
   "cell_type": "code",
   "execution_count": 43,
   "metadata": {},
   "outputs": [
    {
     "name": "stdout",
     "output_type": "stream",
     "text": [
      "mse sklearn :  33246.15187434026\n"
     ]
    }
   ],
   "source": [
    "print(\"mse sklearn : \", np.sqrt(mse(y_pred_ridge_, y_train)))"
   ]
  },
  {
   "cell_type": "code",
   "execution_count": 44,
   "metadata": {},
   "outputs": [
    {
     "name": "stdout",
     "output_type": "stream",
     "text": [
      "mse sklearn :  42487.368175121395\n"
     ]
    }
   ],
   "source": [
    "y_test_pred_ridge = grid.predict(scaler_1.transform(X_test))\n",
    "print(\"mse sklearn : \", np.sqrt(mse(y_test_pred_ridge, y_test)))"
   ]
  }
 ],
 "metadata": {
  "kernelspec": {
   "display_name": "Python 3",
   "language": "python",
   "name": "python3"
  },
  "language_info": {
   "codemirror_mode": {
    "name": "ipython",
    "version": 3
   },
   "file_extension": ".py",
   "mimetype": "text/x-python",
   "name": "python",
   "nbconvert_exporter": "python",
   "pygments_lexer": "ipython3",
   "version": "3.7.3"
  }
 },
 "nbformat": 4,
 "nbformat_minor": 2
}
